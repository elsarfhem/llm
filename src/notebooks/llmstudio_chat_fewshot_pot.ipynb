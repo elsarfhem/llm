{
 "cells": [
  {
   "cell_type": "code",
   "execution_count": null,
   "id": "a76aa3da-a2e0-4e95-82e9-fbbea17cdb9f",
   "metadata": {},
   "outputs": [],
   "source": [
    "import sys\n",
    "!{sys.executable} -m pip install openai jsonlines pyarrow pandas"
   ]
  },
  {
   "cell_type": "markdown",
   "id": "aa8e8d6f-5b47-4752-927a-85f9fb990d20",
   "metadata": {},
   "source": [
    "# Call model with few-shot examples"
   ]
  },
  {
   "cell_type": "code",
   "execution_count": null,
   "id": "7e9e8fe2-45a8-4599-96fb-7c4df694ef89",
   "metadata": {},
   "outputs": [],
   "source": [
    "# Example: reuse your existing OpenAI setup\n",
    "from openai import OpenAI\n",
    "\n",
    "# Point to the local server\n",
    "client = OpenAI(base_url=\"http://localhost:1234/v1\", api_key=\"lm-studio\")\n",
    "\n",
    "def callModel(prompt, prefix=\"\", examples=[], max_tokens=1024):\n",
    "    messages=[{\"role\": \"system\", \"content\": prefix}]\n",
    "\n",
    "    for example in examples:\n",
    "        content=f\"\"\"\n",
    "{example['code']}\n",
    "The solution is {example['target']}.\n",
    "\"\"\"\n",
    "        messages.append({\"role\": \"user\", \"content\": f\"{example['input']}\"})\n",
    "        messages.append({\"role\": \"assistant\", \"content\": f\"{content}\"})\n",
    "\n",
    "    messages.append({\"role\": \"user\", \"content\": f\"{prompt}\"})\n",
    "    # print('messages: ', *messages, sep = \"\\n\\t\") \n",
    "        \n",
    "    completion = client.chat.completions.create(\n",
    "      model= \"\",\n",
    "      messages=messages,\n",
    "      stream=False,\n",
    "      temperature=0.7,\n",
    "      top_p=0.9,\n",
    "      max_tokens=max_tokens,\n",
    "      stop=[\"The solution is\"]\n",
    "    )\n",
    "    return completion.choices[0].message.content"
   ]
  },
  {
   "cell_type": "markdown",
   "id": "c9402180-08cd-41ca-bea4-f4e157726ccf",
   "metadata": {},
   "source": [
    "# Read the gsm-hard JSONL file"
   ]
  },
  {
   "cell_type": "code",
   "execution_count": null,
   "id": "39df565c-5852-4540-ae99-ec7dde0390f0",
   "metadata": {},
   "outputs": [],
   "source": [
    "import jsonlines\n",
    "import re\n",
    "\n",
    "file_path = '/Users/amatarazzo/Downloads/gsmhardv2.jsonl'\n",
    "pattern_annotation = r'(\"\"\"[^\"]*\"\"\")'\n",
    "\n",
    "# Read the JSONL file\n",
    "with jsonlines.open(file_path) as reader:\n",
    "    data = [{'input': obj['input'], 'code': re.sub(pattern_annotation, \"\", obj['code']), 'target': obj['target']} for obj in reader]\n",
    "    \n",
    "print(f'gsm-hard dataset loaded ({len(data)} rows)')\n",
    "\n",
    "def extract_and_execute_function(code_string):\n",
    "    # Extract the function definition using regex\n",
    "    function_match = re.search(r\"def\\s+\\w+\\(.*?\\):.*?(?=def|\\Z)\", code_string, re.DOTALL)\n",
    "    \n",
    "    if function_match:\n",
    "        function_code = function_match.group(0)\n",
    "        # Execute the function definition\n",
    "        exec(function_code, globals())\n",
    "        # Call the extracted function by name\n",
    "        result = solution()\n",
    "        return result\n",
    "    else:\n",
    "        return \"No function found in the string\""
   ]
  },
  {
   "cell_type": "markdown",
   "id": "7e4e143f-f5a1-4c6b-9230-2a0a6c47fd15",
   "metadata": {},
   "source": [
    "# Run!"
   ]
  },
  {
   "cell_type": "code",
   "execution_count": null,
   "id": "db1893de-ee70-4810-99ae-41b62295ae39",
   "metadata": {
    "scrolled": true
   },
   "outputs": [],
   "source": [
    "#few-shot\n",
    "\n",
    "import concurrent.futures\n",
    "import re\n",
    "import random\n",
    "import math\n",
    "\n",
    "prefix = \"\"\"Your are a maths teacher. Answer the following mathematical reasoning question. \n",
    "\n",
    "Let's think step by step.\"\"\"\n",
    "right=0\n",
    "wrong=0\n",
    "error=0\n",
    "shots=5\n",
    "workers=3\n",
    "max_tokens=1024\n",
    "\n",
    "split_index=math.floor(len(data)/2)\n",
    "test_data=data[:split_index]\n",
    "# test_data=data[:1]\n",
    "example_data=data[split_index+1:]\n",
    "\n",
    "# Using ThreadPoolExecutor to run callModel in parallel\n",
    "\n",
    "with concurrent.futures.ThreadPoolExecutor(max_workers=workers) as executor:  # Adjust max_workers as needed\n",
    "    examples=random.sample(example_data, shots)\n",
    "    future_to_data = {executor.submit(callModel, json_obj['input'], prefix, examples, max_tokens): json_obj for json_obj in test_data}\n",
    "    for future in concurrent.futures.as_completed(future_to_data):\n",
    "        json_obj = future_to_data[future]\n",
    "        try:\n",
    "            answer = future.result()\n",
    "            match=False\n",
    "            result=None\n",
    "            try:\n",
    "                result = extract_and_execute_function(answer)\n",
    "                print(f\"calculated: {result}\")\n",
    "                if(result==json_obj['target']):\n",
    "                    match=True\n",
    "            except Exception as exc:\n",
    "                print(exc)\n",
    "                error+=1\n",
    "\n",
    "            print(f\"\"\"\n",
    "question: {json_obj['input']}\n",
    "answer:   {answer}\n",
    "executed: {result}\n",
    "-------------------\n",
    "solution:   {json_obj['target']}\n",
    "            \"\"\")\n",
    "            if match:\n",
    "                right+=1\n",
    "                print(\"answer is right\")\n",
    "            else:\n",
    "                wrong+=1\n",
    "                print(\"answer is wrong\")\n",
    "\n",
    "            print(f\"\"\"\n",
    "total: {right + wrong}\n",
    "right: {right} {right*100/(right+wrong)}%\n",
    "wrong: {wrong}\n",
    "error: {error}\n",
    "            \"\"\")\n",
    "            print(\"===============================================================================================\")\n",
    "\n",
    "        except Exception as exc:\n",
    "            print(f\"An error occurred for {item}: {exc}\")\n",
    "            error+=1\n",
    "\n",
    "print(f\"\"\"\n",
    "total: {right + wrong}\n",
    "right: {right} {right*100/(right+wrong)}%\n",
    "wrong: {wrong}\n",
    "error: {error}\n",
    "\"\"\")"
   ]
  },
  {
   "cell_type": "code",
   "execution_count": null,
   "id": "9707a9de-a243-4e1a-b35c-b1e9386ef4d6",
   "metadata": {},
   "outputs": [],
   "source": []
  }
 ],
 "metadata": {
  "kernelspec": {
   "display_name": "Python 3 (ipykernel)",
   "language": "python",
   "name": "python3"
  },
  "language_info": {
   "codemirror_mode": {
    "name": "ipython",
    "version": 3
   },
   "file_extension": ".py",
   "mimetype": "text/x-python",
   "name": "python",
   "nbconvert_exporter": "python",
   "pygments_lexer": "ipython3",
   "version": "3.9.6"
  }
 },
 "nbformat": 4,
 "nbformat_minor": 5
}
